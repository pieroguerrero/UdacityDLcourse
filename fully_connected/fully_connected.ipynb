{
 "cells": [
  {
   "cell_type": "markdown",
   "metadata": {},
   "source": [
    "Assignment 2\n",
    "\n",
    "Previously in 1_notmnist.ipynb, we created a pickle with formatted datasets for training, development and testing on the notMNIST dataset.\n",
    "The goal of this assignment is to progressively train deeper and more accurate models using TensorFlow."
   ]
  },
  {
   "cell_type": "code",
   "execution_count": 1,
   "metadata": {
    "collapsed": true
   },
   "outputs": [],
   "source": [
    "# These are all the modules we'll be using later. Make sure you can import them\n",
    "# before proceeding further.\n",
    "from __future__ import print_function\n",
    "import numpy as np\n",
    "import tensorflow as tf\n",
    "from six.moves import cPickle as pickle\n",
    "from six.moves import range"
   ]
  },
  {
   "cell_type": "markdown",
   "metadata": {},
   "source": [
    "First reload the data we generated in 1_notmnist.ipynb."
   ]
  },
  {
   "cell_type": "code",
   "execution_count": 2,
   "metadata": {},
   "outputs": [
    {
     "name": "stdout",
     "output_type": "stream",
     "text": [
      "Training set (200000, 28, 28) (200000,)\n",
      "Validation set (10000, 28, 28) (10000,)\n",
      "Test set (10000, 28, 28) (10000,)\n"
     ]
    }
   ],
   "source": [
    "pickle_file = 'notMNIST.pickle' #'notMNIST_unique.pickle'\n",
    "\n",
    "with open(pickle_file, 'rb') as f:\n",
    "    save = pickle.load(f)\n",
    "    train_dataset = save['train_dataset']\n",
    "    train_labels = save['train_labels']\n",
    "    valid_dataset = save['valid_dataset']\n",
    "    valid_labels = save['valid_labels']\n",
    "    test_dataset = save['test_dataset']\n",
    "    test_labels = save['test_labels']\n",
    "    del save  # hint to help gc free up memory\n",
    "    print('Training set', train_dataset.shape, train_labels.shape)\n",
    "    print('Validation set', valid_dataset.shape, valid_labels.shape)\n",
    "    print('Test set', test_dataset.shape, test_labels.shape)"
   ]
  },
  {
   "cell_type": "markdown",
   "metadata": {},
   "source": [
    "Reformat into a shape that's more adapted to the models we're going to train:\n",
    "\n",
    "- data as a flat matrix,\n",
    "- labels as float 1-hot encodings."
   ]
  },
  {
   "cell_type": "code",
   "execution_count": 3,
   "metadata": {
    "collapsed": true
   },
   "outputs": [],
   "source": [
    "image_size = 28\n",
    "num_labels = 10\n",
    "\n",
    "def reformat(dataset, labels):\n",
    "    dataset = dataset.reshape((-1, image_size * image_size)).astype(np.float32)\n",
    "    # Map 0 to [1.0, 0.0, 0.0 ...], 1 to [0.0, 1.0, 0.0 ...]:\n",
    "    labels = (np.arange(num_labels) == labels[:,None]).astype(np.float32)\n",
    "    return dataset, labels"
   ]
  },
  {
   "cell_type": "code",
   "execution_count": 4,
   "metadata": {},
   "outputs": [
    {
     "name": "stdout",
     "output_type": "stream",
     "text": [
      "Training set (200000, 784) (200000, 10)\n",
      "Validation set (10000, 784) (10000, 10)\n",
      "Test set (10000, 784) (10000, 10)\n"
     ]
    }
   ],
   "source": [
    "train_dataset, train_labels = reformat(train_dataset, train_labels)\n",
    "valid_dataset, valid_labels = reformat(valid_dataset, valid_labels)\n",
    "test_dataset, test_labels = reformat(test_dataset, test_labels)\n",
    "print('Training set', train_dataset.shape, train_labels.shape)\n",
    "print('Validation set', valid_dataset.shape, valid_labels.shape)\n",
    "print('Test set', test_dataset.shape, test_labels.shape)"
   ]
  },
  {
   "cell_type": "code",
   "execution_count": 5,
   "metadata": {},
   "outputs": [
    {
     "data": {
      "text/plain": [
       "array([ 0.,  0.,  0.,  0.,  0.,  0.,  1.,  0.,  0.,  0.], dtype=float32)"
      ]
     },
     "execution_count": 5,
     "metadata": {},
     "output_type": "execute_result"
    }
   ],
   "source": [
    "test_labels[1]"
   ]
  },
  {
   "cell_type": "markdown",
   "metadata": {
    "collapsed": true
   },
   "source": [
    "We're first going to train a multinomial logistic regression using simple gradient descent.\n",
    "\n",
    "TensorFlow works like this:\n",
    "- First you describe the computation that you want to see performed: what the inputs, the variables, and the operations look like. These get created as nodes over a computation graph. This description is all contained within the block below:\n",
    "  - with graph.as_default():\n",
    "      ...\n",
    "- Then you can run the operations on this graph as many times as you want by calling session.run(), providing it outputs to fetch from the graph that get returned. This runtime operation is all contained in the block below:\n",
    "  - with tf.Session(graph=graph) as session:\n",
    "    ...\n",
    "\n",
    "Let's load all the data into TensorFlow and build the computation graph corresponding to our training:"
   ]
  },
  {
   "cell_type": "code",
   "execution_count": 6,
   "metadata": {
    "collapsed": true
   },
   "outputs": [],
   "source": [
    "# With gradient descent training, even this much data is prohibitive.\n",
    "# Subset the training data for faster turnaround.\n",
    "train_subset = 10000\n",
    "\n",
    "graph = tf.Graph()\n",
    "with graph.as_default():\n",
    "    # Input data.\n",
    "    # Load the training, validation and test data into constants that are\n",
    "    # attached to the graph.\n",
    "    tf_train_dataset = tf.constant(train_dataset[:train_subset, :])\n",
    "    tf_train_labels = tf.constant(train_labels[:train_subset])\n",
    "    tf_valid_dataset = tf.constant(valid_dataset)\n",
    "    tf_test_dataset = tf.constant(test_dataset)\n",
    "  \n",
    "    # Variables.\n",
    "    # These are the parameters that we are going to be training. \n",
    "    # The weight matrix will be initialized using random values following a (truncated) normal distribution. \n",
    "    weights = tf.Variable(tf.truncated_normal([image_size * image_size, num_labels]))\n",
    "    # The biases get initialized to zero.    \n",
    "    biases = tf.Variable(tf.zeros([num_labels]))\n",
    "  \n",
    "    # Training computation.\n",
    "    # We multiply the inputs with the weight matrix, and add biases. \n",
    "    logits = tf.matmul(tf_train_dataset, weights) + biases\n",
    "    # We compute the softmax and cross-entropy (one operation in TensorFlow, because it's very common, and it can be optimized). \n",
    "    # We take the average of this cross-entropy across all training examples: that's our loss.    \n",
    "    loss = tf.reduce_mean(tf.nn.softmax_cross_entropy_with_logits(labels=tf_train_labels, logits=logits))\n",
    "  \n",
    "    # Optimizer.\n",
    "    # We are going to find the minimum of this loss using gradient descent.\n",
    "    optimizer = tf.train.GradientDescentOptimizer(0.5).minimize(loss)\n",
    "  \n",
    "    # Predictions for the training, validation, and test data.\n",
    "    # These are not part of training, but merely here so that we can report accuracy figures as we train.\n",
    "    train_prediction = tf.nn.softmax(logits)\n",
    "    \n",
    "    #valid_prediction = tf.nn.softmax(tf.matmul(tf_valid_dataset, weights) + biases)\n",
    "    \n",
    "    validation_logits = tf.matmul(tf_valid_dataset, weights) + biases\n",
    "    valid_prediction = tf.nn.softmax(validation_logits)\n",
    "    validation_loss =  tf.reduce_mean(tf.nn.softmax_cross_entropy_with_logits(labels=valid_labels, logits=validation_logits))\n",
    "    \n",
    "    \n",
    "    test_prediction = tf.nn.softmax(tf.matmul(tf_test_dataset, weights) + biases)"
   ]
  },
  {
   "cell_type": "markdown",
   "metadata": {
    "collapsed": true
   },
   "source": [
    "Let's run this computation and iterate:"
   ]
  },
  {
   "cell_type": "code",
   "execution_count": 7,
   "metadata": {
    "scrolled": false
   },
   "outputs": [
    {
     "name": "stdout",
     "output_type": "stream",
     "text": [
      "Initialized\n",
      "Loss at step 0: 16.496241\n",
      "Training accuracy: 10.9%\n",
      "Validation accuracy: 13.8%\n",
      "Validation Loss: 13.9%\n",
      "\n",
      "Loss at step 100: 2.308071\n",
      "Training accuracy: 72.3%\n",
      "Validation accuracy: 70.8%\n",
      "Validation Loss: 2.5%\n",
      "\n",
      "Loss at step 200: 1.875418\n",
      "Training accuracy: 75.3%\n",
      "Validation accuracy: 73.1%\n",
      "Validation Loss: 2.1%\n",
      "\n",
      "Loss at step 300: 1.633516\n",
      "Training accuracy: 76.5%\n",
      "Validation accuracy: 73.8%\n",
      "Validation Loss: 1.9%\n",
      "\n",
      "Loss at step 400: 1.468343\n",
      "Training accuracy: 77.3%\n",
      "Validation accuracy: 74.2%\n",
      "Validation Loss: 1.8%\n",
      "\n",
      "Loss at step 500: 1.344752\n",
      "Training accuracy: 78.0%\n",
      "Validation accuracy: 74.4%\n",
      "Validation Loss: 1.7%\n",
      "\n",
      "Loss at step 600: 1.246852\n",
      "Training accuracy: 78.6%\n",
      "Validation accuracy: 74.4%\n",
      "Validation Loss: 1.7%\n",
      "\n",
      "Loss at step 700: 1.166852\n",
      "Training accuracy: 79.0%\n",
      "Validation accuracy: 74.5%\n",
      "Validation Loss: 1.6%\n",
      "\n",
      "Loss at step 800: 1.100095\n",
      "Training accuracy: 79.7%\n",
      "Validation accuracy: 74.7%\n",
      "Validation Loss: 1.6%\n",
      "\n",
      "Test accuracy: 82.8%\n"
     ]
    }
   ],
   "source": [
    "num_steps = 801\n",
    "\n",
    "def accuracy(predictions, labels):\n",
    "    return (100.0 * np.sum(np.argmax(predictions, 1) == np.argmax(labels, 1))/ predictions.shape[0])\n",
    "\n",
    "with tf.Session(graph=graph) as session:\n",
    "    # This is a one-time operation which ensures the parameters get initialized as\n",
    "    # we described in the graph: random weights for the matrix, zeros for the biases. \n",
    "    tf.global_variables_initializer().run()\n",
    "    print('Initialized')\n",
    "    for step in range(num_steps):\n",
    "        # Run the computations. \n",
    "        # We tell .run() that we want to run the optimizer, and get the loss value and the training predictions returned as numpy\n",
    "        # arrays.\n",
    "        _, l, predictions = session.run([optimizer, loss, train_prediction])\n",
    "        if (step % 100 == 0):\n",
    "            print('Loss at step %d: %f' % (step, l))\n",
    "            print('Training accuracy: %.1f%%' % accuracy(predictions, train_labels[:train_subset, :]))\n",
    "            # Calling .eval() on valid_prediction is basically like calling run(), but\n",
    "            # just to get that one numpy array. Note that it recomputes all its graph\n",
    "            # dependencies.\n",
    "            print('Validation accuracy: %.1f%%' % accuracy(valid_prediction.eval(), valid_labels))\n",
    "            print('Validation Loss: %.1f%%\\n' % validation_loss.eval())\n",
    "    print('Test accuracy: %.1f%%' % accuracy(test_prediction.eval(), test_labels))"
   ]
  },
  {
   "cell_type": "markdown",
   "metadata": {
    "collapsed": true
   },
   "source": [
    "Let's now switch to stochastic gradient descent training instead, which is much faster.\n",
    "\n",
    "The graph will be similar, except that instead of holding all the training data into a constant node, we create a Placeholder node which will be fed actual data at every call of session.run()."
   ]
  },
  {
   "cell_type": "code",
   "execution_count": 8,
   "metadata": {
    "collapsed": true
   },
   "outputs": [],
   "source": [
    "batch_size = 128\n",
    "\n",
    "graph = tf.Graph()\n",
    "with graph.as_default():\n",
    "    # Input data. For the training data, we use a placeholder that will be fed\n",
    "    # at run time with a training minibatch.\n",
    "    tf_train_dataset = tf.placeholder(tf.float32, shape=(batch_size, image_size * image_size))\n",
    "    tf_train_labels = tf.placeholder(tf.float32, shape=(batch_size, num_labels))\n",
    "    tf_valid_dataset = tf.constant(valid_dataset)\n",
    "    tf_test_dataset = tf.constant(test_dataset)\n",
    "  \n",
    "    # Variables.\n",
    "    weights = tf.Variable(tf.truncated_normal([image_size * image_size, num_labels]))\n",
    "    biases = tf.Variable(tf.zeros([num_labels]))\n",
    "  \n",
    "    # Training computation.\n",
    "    logits = tf.matmul(tf_train_dataset, weights) + biases\n",
    "    loss = tf.reduce_mean(tf.nn.softmax_cross_entropy_with_logits(labels=tf_train_labels, logits=logits))\n",
    "  \n",
    "    # Optimizer.\n",
    "    optimizer = tf.train.GradientDescentOptimizer(0.5).minimize(loss)\n",
    "  \n",
    "    # Predictions for the training, validation, and test data.\n",
    "    train_prediction = tf.nn.softmax(logits)\n",
    "    valid_prediction = tf.nn.softmax(tf.matmul(tf_valid_dataset, weights) + biases)\n",
    "    test_prediction = tf.nn.softmax(tf.matmul(tf_test_dataset, weights) + biases)"
   ]
  },
  {
   "cell_type": "code",
   "execution_count": 9,
   "metadata": {},
   "outputs": [
    {
     "data": {
      "text/plain": [
       "784"
      ]
     },
     "execution_count": 9,
     "metadata": {},
     "output_type": "execute_result"
    }
   ],
   "source": [
    "image_size * image_size"
   ]
  },
  {
   "cell_type": "markdown",
   "metadata": {},
   "source": [
    "Let's run it"
   ]
  },
  {
   "cell_type": "code",
   "execution_count": 10,
   "metadata": {},
   "outputs": [
    {
     "name": "stdout",
     "output_type": "stream",
     "text": [
      "Initialized\n",
      "offset = (0 * 128) // (200000 - 128) = 0\n",
      "Minibatch loss at step 0: 19.347689\n",
      "Minibatch accuracy: 8.6%\n",
      "Validation accuracy: 8.9% \n",
      "\n",
      "offset = (500 * 128) // (200000 - 128) = 64000\n",
      "Minibatch loss at step 500: 1.248496\n",
      "Minibatch accuracy: 82.8%\n",
      "Validation accuracy: 75.9% \n",
      "\n",
      "offset = (1000 * 128) // (200000 - 128) = 128000\n",
      "Minibatch loss at step 1000: 1.398907\n",
      "Minibatch accuracy: 76.6%\n",
      "Validation accuracy: 76.6% \n",
      "\n",
      "offset = (1500 * 128) // (200000 - 128) = 192000\n",
      "Minibatch loss at step 1500: 0.683657\n",
      "Minibatch accuracy: 82.8%\n",
      "Validation accuracy: 77.2% \n",
      "\n",
      "offset = (2000 * 128) // (200000 - 128) = 56128\n",
      "Minibatch loss at step 2000: 0.861519\n",
      "Minibatch accuracy: 83.6%\n",
      "Validation accuracy: 77.5% \n",
      "\n",
      "offset = (2500 * 128) // (200000 - 128) = 120128\n",
      "Minibatch loss at step 2500: 0.779015\n",
      "Minibatch accuracy: 78.9%\n",
      "Validation accuracy: 78.3% \n",
      "\n",
      "offset = (3000 * 128) // (200000 - 128) = 184128\n",
      "Minibatch loss at step 3000: 1.108713\n",
      "Minibatch accuracy: 75.8%\n",
      "Validation accuracy: 79.0% \n",
      "\n",
      "Test accuracy: 86.3%\n"
     ]
    }
   ],
   "source": [
    "num_steps = 3001\n",
    "\n",
    "with tf.Session(graph=graph) as session:\n",
    "    tf.global_variables_initializer().run()\n",
    "    print(\"Initialized\")\n",
    "    for step in range(num_steps):\n",
    "        # Pick an offset within the training data, which has been randomized.\n",
    "        # Note: we could use better randomization across epochs.\n",
    "        offset = (step * batch_size) % (train_labels.shape[0] - batch_size)\n",
    "        # Generate a minibatch.\n",
    "        batch_data = train_dataset[offset:(offset + batch_size), :]\n",
    "        batch_labels = train_labels[offset:(offset + batch_size), :]\n",
    "        # Prepare a dictionary telling the session where to feed the minibatch.\n",
    "        # The key of the dictionary is the placeholder node of the graph to be fed,\n",
    "        # and the value is the numpy array to feed to it.\n",
    "        feed_dict = {tf_train_dataset : batch_data, tf_train_labels : batch_labels}\n",
    "        _, l, predictions = session.run([optimizer, loss, train_prediction], feed_dict=feed_dict)\n",
    "        if (step % 500 == 0):\n",
    "            print(\"offset = (%d * %d) // (%d - %d) = %d\" % (step, batch_size, train_labels.shape[0], batch_size, offset))\n",
    "            print(\"Minibatch loss at step %d: %f\" % (step, l))\n",
    "            print(\"Minibatch accuracy: %.1f%%\" % accuracy(predictions, batch_labels))\n",
    "            print(\"Validation accuracy: %.1f%% \\n\" % accuracy(valid_prediction.eval(), valid_labels))\n",
    "    print(\"Test accuracy: %.1f%%\" % accuracy(test_prediction.eval(), test_labels))"
   ]
  },
  {
   "cell_type": "markdown",
   "metadata": {},
   "source": [
    "Problem\n",
    "\n",
    "Turn the logistic regression example with SGD into a 1-hidden layer neural network with rectified linear units nn.relu() and 1024 hidden nodes. This model should improve your validation / test accuracy.\n",
    "\n",
    "to check:\n",
    "- https://stackoverflow.com/questions/45040392/adding-hidden-layers-to-first-simple-neural-network\n",
    "- https://stackoverflow.com/questions/39414060/adding-an-extra-hidden-layer-using-googles-tensorflow"
   ]
  },
  {
   "cell_type": "code",
   "execution_count": 11,
   "metadata": {
    "collapsed": true
   },
   "outputs": [],
   "source": [
    "batch_size = 128\n",
    "h1_neurons_size=1024\n",
    "\n",
    "graph = tf.Graph()\n",
    "with graph.as_default():\n",
    "    # Input data. For the training data, we use a placeholder that will be fed\n",
    "    # at run time with a training minibatch.\n",
    "    tf_train_dataset = tf.placeholder(tf.float32, shape=(batch_size, image_size * image_size))\n",
    "    tf_train_labels = tf.placeholder(tf.float32, shape=(batch_size, num_labels))\n",
    "    tf_valid_dataset = tf.constant(valid_dataset)\n",
    "    tf_test_dataset = tf.constant(test_dataset)  \n",
    "\n",
    "    #Input Layer: 28*28 neurons = 784\n",
    "    #Hidden layer:1024\n",
    "    #Otput Layer: 10\n",
    "    \n",
    "    #Input and Hidden1.\n",
    "    weights_In_h1 = tf.Variable(tf.truncated_normal([image_size * image_size, h1_neurons_size]))\n",
    "    biases_In_h1 = tf.Variable(tf.zeros([h1_neurons_size]))\n",
    "  \n",
    "    preactivation_h1 = tf.matmul(tf_train_dataset, weights_In_h1) + biases_In_h1\n",
    "    activation_h1 = tf.nn.relu(preactivation_h1)\n",
    "    \n",
    "    #Hidden1 and Output\n",
    "    weights_h1_Out = tf.Variable(tf.truncated_normal([h1_neurons_size, num_labels]))\n",
    "    biases_h1_Out = tf.Variable(tf.zeros([num_labels]))\n",
    "  \n",
    "    logits_h1_Out = tf.matmul(activation_h1, weights_h1_Out) + biases_h1_Out\n",
    "    \n",
    "    #Total Loss\n",
    "    loss = tf.reduce_mean(tf.nn.softmax_cross_entropy_with_logits(labels=tf_train_labels, logits=logits_h1_Out))    \n",
    "  \n",
    "    #Optimizer.\n",
    "    optimizer = tf.train.GradientDescentOptimizer(0.5).minimize(loss)\n",
    "  \n",
    "    # Predictions for the training, validation, and test data:\n",
    "    train_prediction = tf.nn.softmax(logits_h1_Out)\n",
    "    \n",
    "    #valid_prediction\n",
    "    tf_valida_dataset_logits_h1=tf.matmul(tf_valid_dataset, weights_In_h1) + biases_In_h1\n",
    "    tf_valid_dataset_h1 = tf.nn.relu(tf_valida_dataset_logits_h1)\n",
    "    tf_valid_dataset_logits_out=tf.matmul(tf_valid_dataset_h1, weights_h1_Out) + biases_h1_Out\n",
    "    valid_prediction = tf.nn.softmax(tf_valid_dataset_logits_out)\n",
    "    valididation_loss=tf.reduce_mean(tf.nn.softmax_cross_entropy_with_logits(labels=valid_labels, logits=tf_valid_dataset_logits_out))\n",
    "    \n",
    "    #test_prediction\n",
    "    tf_test_dataset_h1 = tf.nn.relu(tf.matmul(tf_test_dataset, weights_In_h1) + biases_In_h1)\n",
    "    test_prediction = tf.nn.softmax(tf.matmul(tf_test_dataset_h1, weights_h1_Out) + biases_h1_Out)"
   ]
  },
  {
   "cell_type": "code",
   "execution_count": 13,
   "metadata": {},
   "outputs": [
    {
     "name": "stdout",
     "output_type": "stream",
     "text": [
      "Initialized\n",
      "offset = (0 * 128) // (200000 - 128) = 0\n",
      "Minibatch loss at step 0: 320.288544\n",
      "Minibatch accuracy: 11.7%\n",
      "Validation accuracy: 24.2%\n",
      "Validation Loss: 1340.5\n",
      "\n",
      "offset = (500 * 128) // (200000 - 128) = 64000\n",
      "Minibatch loss at step 500: 18.847515\n",
      "Minibatch accuracy: 80.5%\n",
      "Validation accuracy: 79.9%\n",
      "Validation Loss: 14.0\n",
      "\n",
      "offset = (1000 * 128) // (200000 - 128) = 128000\n",
      "Minibatch loss at step 1000: 16.109329\n",
      "Minibatch accuracy: 78.9%\n",
      "Validation accuracy: 81.3%\n",
      "Validation Loss: 11.1\n",
      "\n",
      "offset = (1500 * 128) // (200000 - 128) = 192000\n",
      "Minibatch loss at step 1500: 5.670521\n",
      "Minibatch accuracy: 89.1%\n",
      "Validation accuracy: 81.7%\n",
      "Validation Loss: 7.3\n",
      "\n",
      "offset = (2000 * 128) // (200000 - 128) = 56128\n",
      "Minibatch loss at step 2000: 3.036611\n",
      "Minibatch accuracy: 86.7%\n",
      "Validation accuracy: 81.8%\n",
      "Validation Loss: 5.5\n",
      "\n",
      "offset = (2500 * 128) // (200000 - 128) = 120128\n",
      "Minibatch loss at step 2500: 3.465932\n",
      "Minibatch accuracy: 77.3%\n",
      "Validation accuracy: 82.2%\n",
      "Validation Loss: 5.1\n",
      "\n",
      "offset = (3000 * 128) // (200000 - 128) = 184128\n",
      "Minibatch loss at step 3000: 2.823357\n",
      "Minibatch accuracy: 84.4%\n",
      "Validation accuracy: 82.3%\n",
      "Validation Loss: 4.2\n",
      "\n",
      "Test accuracy: 89.3%\n"
     ]
    }
   ],
   "source": [
    "num_steps = 3001\n",
    "\n",
    "with tf.Session(graph=graph) as session:\n",
    "    tf.global_variables_initializer().run()\n",
    "    print(\"Initialized\")\n",
    "    for step in range(num_steps):\n",
    "        # Pick an offset within the training data, which has been randomized.\n",
    "        # Note: we could use better randomization across epochs.\n",
    "        offset = (step * batch_size) % (train_labels.shape[0] - batch_size)\n",
    "        # Generate a minibatch.\n",
    "        batch_data = train_dataset[offset:(offset + batch_size), :]\n",
    "        batch_labels = train_labels[offset:(offset + batch_size), :]\n",
    "        # Prepare a dictionary telling the session where to feed the minibatch.\n",
    "        # The key of the dictionary is the placeholder node of the graph to be fed,\n",
    "        # and the value is the numpy array to feed to it.\n",
    "        feed_dict = {tf_train_dataset : batch_data, tf_train_labels : batch_labels}\n",
    "        _, l, predictions = session.run([optimizer, loss, train_prediction], feed_dict=feed_dict)\n",
    "        if (step % 500 == 0):\n",
    "            print(\"offset = (%d * %d) // (%d - %d) = %d\" % (step, batch_size, train_labels.shape[0], batch_size, offset))\n",
    "            print(\"Minibatch loss at step %d: %f\" % (step, l))\n",
    "            print(\"Minibatch accuracy: %.1f%%\" % accuracy(predictions, batch_labels))\n",
    "            print(\"Validation accuracy: %.1f%%\" % accuracy(valid_prediction.eval(), valid_labels))\n",
    "            print('Validation Loss: %.1f\\n' % valididation_loss.eval())\n",
    "    print(\"Test accuracy: %.1f%%\" % accuracy(test_prediction.eval(), test_labels))"
   ]
  },
  {
   "cell_type": "code",
   "execution_count": null,
   "metadata": {
    "collapsed": true
   },
   "outputs": [],
   "source": []
  }
 ],
 "metadata": {
  "kernelspec": {
   "display_name": "Python 3",
   "language": "python",
   "name": "python3"
  },
  "language_info": {
   "codemirror_mode": {
    "name": "ipython",
    "version": 3
   },
   "file_extension": ".py",
   "mimetype": "text/x-python",
   "name": "python",
   "nbconvert_exporter": "python",
   "pygments_lexer": "ipython3",
   "version": "3.5.3"
  }
 },
 "nbformat": 4,
 "nbformat_minor": 2
}
